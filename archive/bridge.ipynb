{
  "nbformat": 4,
  "nbformat_minor": 0,
  "metadata": {
    "colab": {
      "name": "bridge.ipynb",
      "version": "0.3.2",
      "provenance": [],
      "collapsed_sections": [],
      "include_colab_link": true
    },
    "kernelspec": {
      "name": "python3",
      "display_name": "Python 3"
    }
  },
  "cells": [
    {
      "cell_type": "markdown",
      "metadata": {
        "id": "view-in-github",
        "colab_type": "text"
      },
      "source": [
        "<a href=\"https://colab.research.google.com/github/hjjimmykim/bridge/blob/master/bridge.ipynb\" target=\"_parent\"><img src=\"https://colab.research.google.com/assets/colab-badge.svg\" alt=\"Open In Colab\"/></a>"
      ]
    },
    {
      "metadata": {
        "id": "HbIrKscTjQrS",
        "colab_type": "text"
      },
      "cell_type": "markdown",
      "source": [
        "# Libraries"
      ]
    },
    {
      "metadata": {
        "id": "IbRHTqOzqNLc",
        "colab_type": "code",
        "colab": {}
      },
      "cell_type": "code",
      "source": [
        "# Usual\n",
        "import numpy as np\n",
        "import matplotlib.pyplot as plt\n",
        "\n",
        "from IPython.display import clear_output # Clears output from screen"
      ],
      "execution_count": 0,
      "outputs": []
    },
    {
      "metadata": {
        "id": "5r1nZtr0myOo",
        "colab_type": "text"
      },
      "cell_type": "markdown",
      "source": [
        "# Setup"
      ]
    },
    {
      "metadata": {
        "id": "FBhQOHwRm035",
        "colab_type": "code",
        "colab": {}
      },
      "cell_type": "code",
      "source": [
        "# Playing cards\n",
        "suits = ['club','diamond','heart','spade']\n",
        "values = np.arange(2,15)"
      ],
      "execution_count": 0,
      "outputs": []
    },
    {
      "metadata": {
        "id": "LhFxQ9qIkeq5",
        "colab_type": "text"
      },
      "cell_type": "markdown",
      "source": [
        "# Classes"
      ]
    },
    {
      "metadata": {
        "id": "sofJhP04jXyo",
        "colab_type": "code",
        "colab": {}
      },
      "cell_type": "code",
      "source": [
        "# Individual card\n",
        "class Card:\n",
        "  suit = None   # suit = 'club' < 'diamond' < 'heart' < 'spade'\n",
        "  value = None  # value = 2 < ... < 10 < 11 (jack) < 12 (queen) < 13 (king) < 14 (ace)\n",
        "  \n",
        "  def __init__(self, suit, value):\n",
        "    self.suit = suit\n",
        "    self.value = value\n",
        "    \n",
        "# Card deck\n",
        "class Deck:\n",
        "  deck = None   # List of cards in the game\n",
        "  size = 0      # Size of the deck\n",
        "  \n",
        "  def __init__(self, suits, values):\n",
        "    # Initialize deck\n",
        "    self.deck = []\n",
        "    \n",
        "    # Populate the deck with all possible cards\n",
        "    for s in suits:\n",
        "      for v in values:\n",
        "        self.deck.append(Card(s,v))\n",
        "        \n",
        "    self.size = len(self.deck) # Size of the deck\n",
        "        \n",
        "  # Shuffle the deck\n",
        "  def shuffle(self):\n",
        "    np.random.shuffle(self.deck)\n",
        "    \n",
        "# Player\n",
        "class Player:\n",
        "  hand = None   # List of cards owned by the player\n",
        "  team = None   # 0 or 1\n",
        "  \n",
        "  pts = 0\n",
        "  \n",
        "  def __init__(self, team):\n",
        "    self.team = team"
      ],
      "execution_count": 0,
      "outputs": []
    },
    {
      "metadata": {
        "id": "lhUfo6YX5E5_",
        "colab_type": "text"
      },
      "cell_type": "markdown",
      "source": [
        "# Functions\n"
      ]
    },
    {
      "metadata": {
        "id": "XCsvqVjW5Gmf",
        "colab_type": "code",
        "colab": {}
      },
      "cell_type": "code",
      "source": [
        "# Distribute cards in the deck to players\n",
        "def create_hands(deck, player_list):\n",
        "  numPlayers = len(player_list)    # Number of players\n",
        "  numCards = deck.size             # Number of cards\n",
        "  \n",
        "  # Distribute\n",
        "  for i in range(numPlayers):\n",
        "    player_list[i].hand = deck.deck[i*numCards : (i+1)*numCards]"
      ],
      "execution_count": 0,
      "outputs": []
    },
    {
      "metadata": {
        "id": "RPR2Odmp59dn",
        "colab_type": "text"
      },
      "cell_type": "markdown",
      "source": [
        "# Game"
      ]
    },
    {
      "metadata": {
        "id": "dJ4JNMYu5-BI",
        "colab_type": "code",
        "colab": {}
      },
      "cell_type": "code",
      "source": [
        "# Create players\n",
        "playerList = []\n",
        "for i in range(4):\n",
        "  playerList.append(Player(i % 2))  # team #'s are [0,1,0,1]\n",
        "\n",
        "# Create deck\n",
        "deck = Deck(suits, values)\n",
        "\n",
        "# Shuffle deck\n",
        "deck.shuffle()\n",
        "\n",
        "# Distribute cards\n",
        "create_hands(deck, playerList)\n",
        "\n",
        "# Bidding\n",
        "\n",
        "# Playing\n",
        "\n",
        "# Scoring"
      ],
      "execution_count": 0,
      "outputs": []
    },
    {
      "metadata": {
        "id": "h-RR8l28WkIe",
        "colab_type": "code",
        "colab": {}
      },
      "cell_type": "code",
      "source": [
        ""
      ],
      "execution_count": 0,
      "outputs": []
    }
  ]
}