{
  "nbformat": 4,
  "nbformat_minor": 0,
  "metadata": {
    "colab": {
      "name": "bridge.ipynb",
      "version": "0.3.2",
      "provenance": [],
      "collapsed_sections": [],
      "include_colab_link": true
    },
    "kernelspec": {
      "name": "python3",
      "display_name": "Python 3"
    }
  },
  "cells": [
    {
      "cell_type": "markdown",
      "metadata": {
        "id": "view-in-github",
        "colab_type": "text"
      },
      "source": [
        "<a href=\"https://colab.research.google.com/github/hjjimmykim/bridge/blob/master/bridge.ipynb\" target=\"_parent\"><img src=\"https://colab.research.google.com/assets/colab-badge.svg\" alt=\"Open In Colab\"/></a>"
      ]
    },
    {
      "metadata": {
        "id": "i_jytCcAuYGy",
        "colab_type": "text"
      },
      "cell_type": "markdown",
      "source": [
        "# Contract bridge\n",
        "\n",
        "Rules: https://en.wikipedia.org/wiki/Contract_bridge#Gameplay\n",
        "\n",
        "Bidding\n",
        " - If everyone passes w/o bid, round is \"passed out\" and not played.\n",
        " - Should we include double and redouble?"
      ]
    },
    {
      "metadata": {
        "id": "HbIrKscTjQrS",
        "colab_type": "text"
      },
      "cell_type": "markdown",
      "source": [
        "# Libraries"
      ]
    },
    {
      "metadata": {
        "id": "IbRHTqOzqNLc",
        "colab_type": "code",
        "colab": {}
      },
      "cell_type": "code",
      "source": [
        "# Usual\n",
        "import numpy as np\n",
        "import matplotlib.pyplot as plt\n",
        "\n",
        "from itertools import cycle # Allows for cyclic iteration. Beware infinite loops!\n",
        "\n",
        "from IPython.display import clear_output # Clears output from screen"
      ],
      "execution_count": 0,
      "outputs": []
    },
    {
      "metadata": {
        "id": "5r1nZtr0myOo",
        "colab_type": "text"
      },
      "cell_type": "markdown",
      "source": [
        "# Setup"
      ]
    },
    {
      "metadata": {
        "id": "FBhQOHwRm035",
        "colab_type": "code",
        "colab": {
          "base_uri": "https://localhost:8080/",
          "height": 34
        },
        "outputId": "ca92a7e9-b8c0-419f-ce2a-ab981573e19e"
      },
      "cell_type": "code",
      "source": [
        "# Playing cards\n",
        "suits = ['♣','◆','♥','♠']              # club < diamond < heart < spade\n",
        "values = np.arange(2,15)                   # 2 < ... < 10 < 11 (jack) < 12 (queen) < 13 (king) < 14 (ace)\n",
        "values_str = [str(x) for x in range(2,11)] + ['Jack', 'Queen', 'King', 'Ace']\n",
        "# Index representation = [2♣,...,A♣,2◆,...,A◆,2♥,...,A♥,2♠,...,A♠] (0-51)\n",
        "\n",
        "# Bidding\n",
        "trump_suits = ['C','D','H','S','NT'] # NT = no trump suit\n",
        "\n",
        "bid_actions_str = ['PASS']\n",
        "for i in range(1,8):\n",
        "  for ts in trump_suits:\n",
        "    bid_actions_str.append(str(i)+ts)\n",
        "# Index representation = [PASS, 1C, 1D, 1H, 1S, 1NT, ..., 7C, 7D, 7H, 7S, 7NT] (0-35)\n",
        "    \n",
        "# Playing"
      ],
      "execution_count": 85,
      "outputs": [
        {
          "output_type": "execute_result",
          "data": {
            "text/plain": [
              "36"
            ]
          },
          "metadata": {
            "tags": []
          },
          "execution_count": 85
        }
      ]
    },
    {
      "metadata": {
        "id": "LhFxQ9qIkeq5",
        "colab_type": "text"
      },
      "cell_type": "markdown",
      "source": [
        "# Classes"
      ]
    },
    {
      "metadata": {
        "id": "sofJhP04jXyo",
        "colab_type": "code",
        "colab": {}
      },
      "cell_type": "code",
      "source": [
        "# Player\n",
        "class Player:\n",
        "  hand = None    # List of cards owned by the player\n",
        "  team = None    # 0 or 1\n",
        "  dummy = False  #\n",
        "  declarer = False #\n",
        "  \n",
        "  def __init__(self, team):\n",
        "    self.team = team\n",
        "    \n",
        "  def display_hand(self):\n",
        "    hand_inds = np.nonzero(self.hand)[0]\n",
        "    hand_suitvalue = [''.join(ind2suitvalue(x)) for x in hand_inds]\n",
        "    \n",
        "    print('Hand: ' + ','.join(hand_suitvalue))"
      ],
      "execution_count": 0,
      "outputs": []
    },
    {
      "metadata": {
        "id": "lhUfo6YX5E5_",
        "colab_type": "text"
      },
      "cell_type": "markdown",
      "source": [
        "# Functions\n"
      ]
    },
    {
      "metadata": {
        "id": "XCsvqVjW5Gmf",
        "colab_type": "code",
        "colab": {}
      },
      "cell_type": "code",
      "source": [
        "# Conversion functions ---------------------------------------------------------\n",
        "\n",
        "# Convert from card index (0-51) to 'valuesuit' or [suit, value]\n",
        "def ind2suitvalue(ind, string = True):\n",
        "  assert 0 <= ind <= 51\n",
        "  \n",
        "  suit_ind = ind // 13\n",
        "  \n",
        "  if string:\n",
        "    str_suitvalue = str(ind % 13 + 2) + suits[suit_ind]\n",
        "    \n",
        "    if suit_ind in [1,2]:\n",
        "      str_suitvalue = '\\x1b[31m' + str_suitvalue + '\\x1b[0m'\n",
        "      \n",
        "    return str_suitvalue\n",
        "  else:\n",
        "    return [suits[suit_ind], ind % 13 + 2]\n",
        "  \n",
        "# Convert from [suit, value] to card index (0-51)\n",
        "def suitvalue2ind(suit, value):\n",
        "  assert suit in suits\n",
        "  assert value in values\n",
        "  \n",
        "  return suits.index(suit) * 13 + (value - 2)\n",
        "\n",
        "# Convert from value (2-14) to string ('2'-'Ace')\n",
        "def value2str(value):\n",
        "  assert 2 <= value <= 14\n",
        "  \n",
        "  return values_str[value - 2]\n",
        "\n",
        "# Convert from bid index (0-35) to string ('PASS, 1C, 1D, 1H, 1S, 1NT, ..., 7NT')\n",
        "def bid_ind2str(ind):\n",
        "  assert 0 <= ind <= 35\n",
        "  \n",
        "  if ind == 0:\n",
        "    return 'PASS'\n",
        "  else:\n",
        "    num_tricks = str((ind-1) // 5 + 1)\n",
        "    trump_suit = str(trump_suits[(ind-1) % 5])\n",
        "    \n",
        "    return num_tricks + trump_suit\n",
        "\n",
        "# ------------------------------------------------------------------------------\n",
        "def create_hands(player_list):\n",
        "  # Number of players\n",
        "  numPlayers = len(player_list)\n",
        "  \n",
        "  # Create and shuffle deck\n",
        "  deck = np.arange(52)\n",
        "  np.random.shuffle(deck)\n",
        "  \n",
        "  # Ensure that the cards can be distributed evenly\n",
        "  handsize = int(len(deck)/numPlayers)\n",
        "  assert len(deck)/numPlayers == handsize\n",
        "  \n",
        "  for i in range(numPlayers):\n",
        "    # Player i's portion\n",
        "    deck_i = deck[i*handsize : (i+1)*handsize]\n",
        "    \n",
        "    # Convert to one-hot vector\n",
        "    hand = np.zeros(len(deck),dtype=int)\n",
        "    hand[deck_i] = 1\n",
        "    \n",
        "    player_list[i].hand = hand\n",
        "\n",
        "def bidding_message(i, last_bid, pass_count):\n",
        "  player_name = ['N','E','W','S']\n",
        "  player_name = [0,1,2,3]\n",
        "  \n",
        "  msg = '---------------' + '\\n' + \\\n",
        "        ' Bidding stage ' + '\\n' + \\\n",
        "        '---------------' + '\\n' + \\\n",
        "        'Current player:\\t' + str(player_name[i]) + '\\n' + \\\n",
        "        'Last bid:\\t' + str(last_bid) + '\\n' + \\\n",
        "        'Pass count:\\t' + str(pass_count) + '\\n'\n",
        "  \n",
        "  return msg\n",
        "        "
      ],
      "execution_count": 0,
      "outputs": []
    },
    {
      "metadata": {
        "id": "RPR2Odmp59dn",
        "colab_type": "text"
      },
      "cell_type": "markdown",
      "source": [
        "# Game"
      ]
    },
    {
      "metadata": {
        "id": "dJ4JNMYu5-BI",
        "colab_type": "code",
        "colab": {
          "base_uri": "https://localhost:8080/",
          "height": 192
        },
        "outputId": "ce29508d-abbc-4571-94e9-ef1cbd62ae65"
      },
      "cell_type": "code",
      "source": [
        "# Create players\n",
        "player_list = []\n",
        "for i in range(4):\n",
        "  player_list.append(Player(i % 2))  # team #'s are [0,1,0,1]\n",
        "\n",
        "# Create deck\n",
        "#deck = Deck(suits, values)\n",
        "\n",
        "# Shuffle deck\n",
        "#deck.shuffle()\n",
        "\n",
        "# Distribute cards\n",
        "create_hands(player_list)\n",
        "\n",
        "# Bidding ----------------------------------------------------------------------\n",
        "\n",
        "last_bid = None # Last bid\n",
        "pass_count = 0  # Bidding stops when 3 consecutive passes occur\n",
        "for i in cycle(range(len(player_list))):\n",
        "  player = player_list[i]\n",
        "\n",
        "  valid_input = False\n",
        "  show_hand = False\n",
        "  while not valid_input:\n",
        "    clear_output()\n",
        "    print(bidding_message(i, last_bid, pass_count))\n",
        "    \n",
        "    if show_hand:\n",
        "      player.display_hand()\n",
        "      input_msg = 'Select an action (PASS, 1C, 1D, 1H, 1S, 1NT, ..., 7NT): '\n",
        "    else:\n",
        "      input_msg = 'Select an action (PASS, 1C, 1D, 1H, 1S, 1NT, ..., 7NT)\\n' + \\\n",
        "                  'Or type SHOW to see your hand: '\n",
        "      \n",
        "    action = input(input_msg)\n",
        "    \n",
        "    if action == 'SHOW':\n",
        "      show_hand = True\n",
        "    elif action in bid_actions_str:\n",
        "      if action == 'PASS':\n",
        "        pass_count += 1\n",
        "      else:\n",
        "        last_bid = action\n",
        "        pass_count = 0\n",
        "        \n",
        "      valid_input = True\n",
        "      \n",
        "  if pass_count == 3:\n",
        "    break\n",
        "\n",
        "# Playing\n",
        "print('Playing stage')\n",
        "\n",
        "# Scoring"
      ],
      "execution_count": 90,
      "outputs": [
        {
          "output_type": "stream",
          "text": [
            "---------------\n",
            " Bidding stage \n",
            "---------------\n",
            "Current player:\t3\n",
            "Last bid:\t7NT\n",
            "Pass count:\t2\n",
            "\n",
            "Hand: 4♣,11♣,\u001b[31m3◆\u001b[0m,\u001b[31m4◆\u001b[0m,\u001b[31m6◆\u001b[0m,\u001b[31m7◆\u001b[0m,\u001b[31m7♥\u001b[0m,2♠,6♠,9♠,11♠,12♠,13♠\n",
            "Select an action (PASS, 1C, 1D, 1H, 1S, 1NT, ..., 7NT): PASS\n",
            "Playing stage\n"
          ],
          "name": "stdout"
        }
      ]
    },
    {
      "metadata": {
        "id": "A-_uKTIq1bXp",
        "colab_type": "code",
        "colab": {}
      },
      "cell_type": "code",
      "source": [
        ""
      ],
      "execution_count": 0,
      "outputs": []
    }
  ]
}