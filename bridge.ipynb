{
  "nbformat": 4,
  "nbformat_minor": 0,
  "metadata": {
    "colab": {
      "name": "bridge.ipynb",
      "version": "0.3.2",
      "provenance": [],
      "collapsed_sections": [],
      "include_colab_link": true
    },
    "kernelspec": {
      "name": "python3",
      "display_name": "Python 3"
    }
  },
  "cells": [
    {
      "cell_type": "markdown",
      "metadata": {
        "id": "view-in-github",
        "colab_type": "text"
      },
      "source": [
        "<a href=\"https://colab.research.google.com/github/hjjimmykim/bridge/blob/master/bridge.ipynb\" target=\"_parent\"><img src=\"https://colab.research.google.com/assets/colab-badge.svg\" alt=\"Open In Colab\"/></a>"
      ]
    },
    {
      "metadata": {
        "id": "i_jytCcAuYGy",
        "colab_type": "text"
      },
      "cell_type": "markdown",
      "source": [
        "# Contract bridge\n",
        "\n",
        "Rules: https://en.wikipedia.org/wiki/Contract_bridge#Gameplay\n",
        "\n",
        "2 teams with 2 players each.\n",
        "\n",
        "Bidding\n",
        " - If everyone passes w/o bid, round is \"passed out\" and not played.\n",
        " - Should we include double and redouble?\n",
        " - State representation: One-hot vectors of bids made so far? Should also include which player went first (i.e. dealer)? How do you deal with passes? Double and redouble?"
      ]
    },
    {
      "metadata": {
        "id": "HbIrKscTjQrS",
        "colab_type": "text"
      },
      "cell_type": "markdown",
      "source": [
        "# Libraries"
      ]
    },
    {
      "metadata": {
        "id": "IbRHTqOzqNLc",
        "colab_type": "code",
        "colab": {}
      },
      "cell_type": "code",
      "source": [
        "# Usual\n",
        "import numpy as np\n",
        "import matplotlib.pyplot as plt\n",
        "\n",
        "from itertools import cycle # Allows for cyclic iteration. Beware infinite loops!\n",
        "\n",
        "from IPython.display import clear_output # Clears output from screen"
      ],
      "execution_count": 0,
      "outputs": []
    },
    {
      "metadata": {
        "id": "5r1nZtr0myOo",
        "colab_type": "text"
      },
      "cell_type": "markdown",
      "source": [
        "# Setup"
      ]
    },
    {
      "metadata": {
        "id": "FBhQOHwRm035",
        "colab_type": "code",
        "colab": {}
      },
      "cell_type": "code",
      "source": [
        "# Playing cards\n",
        "suits = ['♣','◆','♥','♠']              # club < diamond < heart < spade\n",
        "values = np.arange(2,15)                   # 2 < ... < 10 < 11 (jack) < 12 (queen) < 13 (king) < 14 (ace)\n",
        "values_str = [str(x) for x in range(2,11)] + ['Jack', 'Queen', 'King', 'Ace']\n",
        "# Index representation = [2♣,...,A♣,2◆,...,A◆,2♥,...,A♥,2♠,...,A♠] (0-51)\n",
        "\n",
        "# Bidding\n",
        "trump_suits = ['C','D','H','S','NT'] # NT = no trump suit\n",
        "\n",
        "bid_actions_str = ['PASS']\n",
        "for i in range(1,8):\n",
        "  for ts in trump_suits:\n",
        "    bid_actions_str.append(str(i)+ts)\n",
        "# Index representation = [PASS, 1C, 1D, 1H, 1S, 1NT, ..., 7C, 7D, 7H, 7S, 7NT] (0-35)\n",
        "    \n",
        "# Playing"
      ],
      "execution_count": 0,
      "outputs": []
    },
    {
      "metadata": {
        "id": "LhFxQ9qIkeq5",
        "colab_type": "text"
      },
      "cell_type": "markdown",
      "source": [
        "# Classes"
      ]
    },
    {
      "metadata": {
        "id": "sofJhP04jXyo",
        "colab_type": "code",
        "colab": {}
      },
      "cell_type": "code",
      "source": [
        "# Player\n",
        "class Player:\n",
        "  hand = None    # List of cards owned by the player\n",
        "  team = None    # 0 or 1\n",
        "  role = None    # 'declarer' or 'dummy' or 'defender'\n",
        "  \n",
        "  def __init__(self, team):\n",
        "    self.team = team\n",
        "    \n",
        "  def display_hand(self):\n",
        "    hand_inds = np.nonzero(self.hand)[0]\n",
        "    hand_suitvalue = [''.join(ind2suitvalue(x)) for x in hand_inds]\n",
        "    \n",
        "    print('Hand: ' + ','.join(hand_suitvalue))"
      ],
      "execution_count": 0,
      "outputs": []
    },
    {
      "metadata": {
        "id": "lhUfo6YX5E5_",
        "colab_type": "text"
      },
      "cell_type": "markdown",
      "source": [
        "# Functions\n"
      ]
    },
    {
      "metadata": {
        "id": "XCsvqVjW5Gmf",
        "colab_type": "code",
        "colab": {}
      },
      "cell_type": "code",
      "source": [
        "# ------------------------------------------------------------------------------\n",
        "# Conversion functions\n",
        "\n",
        "# Convert from card index (0-51) to 'valuesuit' or [suit, value]\n",
        "def ind2suitvalue(ind, string = True):\n",
        "  assert 0 <= ind <= 51\n",
        "  \n",
        "  suit_ind = ind // 13\n",
        "  \n",
        "  if string:\n",
        "    str_suitvalue = str(ind % 13 + 2) + suits[suit_ind]\n",
        "    \n",
        "    if suit_ind in [1,2]:\n",
        "      str_suitvalue = '\\x1b[31m' + str_suitvalue + '\\x1b[0m'\n",
        "      \n",
        "    return str_suitvalue\n",
        "  else:\n",
        "    return [suits[suit_ind], ind % 13 + 2]\n",
        "  \n",
        "# Convert from [suit, value] to card index (0-51)\n",
        "def suitvalue2ind(suit, value):\n",
        "  assert suit in suits\n",
        "  assert value in values\n",
        "  \n",
        "  return suits.index(suit) * 13 + (value - 2)\n",
        "\n",
        "# Convert from value (2-14) to string ('2'-'Ace')\n",
        "def value2str(value):\n",
        "  assert 2 <= value <= 14\n",
        "  \n",
        "  return values_str[value - 2]\n",
        "\n",
        "# Convert from bid index (0-35) to string ('PASS, 1C, 1D, 1H, 1S, 1NT, ..., 7NT')\n",
        "def bid_ind2str(ind):\n",
        "  assert 0 <= ind <= 35\n",
        "  \n",
        "  if ind == 0:\n",
        "    return 'PASS'\n",
        "  else:\n",
        "    num_tricks = str((ind-1) // 5 + 1)\n",
        "    trump_suit = str(trump_suits[(ind-1) % 5])\n",
        "    \n",
        "    return num_tricks + trump_suit\n",
        "\n",
        "# ------------------------------------------------------------------------------\n",
        "# Setup functions\n",
        "\n",
        "def create_hands(player_list):\n",
        "  # Number of players\n",
        "  numPlayers = len(player_list)\n",
        "  \n",
        "  # Create and shuffle deck\n",
        "  deck = np.arange(52)\n",
        "  np.random.shuffle(deck)\n",
        "  \n",
        "  # Ensure that the cards can be distributed evenly\n",
        "  handsize = int(len(deck)/numPlayers)\n",
        "  assert len(deck)/numPlayers == handsize\n",
        "  \n",
        "  for i in range(numPlayers):\n",
        "    # Player i's portion\n",
        "    deck_i = deck[i*handsize : (i+1)*handsize]\n",
        "    \n",
        "    # Convert to one-hot vector\n",
        "    hand = np.zeros(len(deck),dtype=int)\n",
        "    hand[deck_i] = 1\n",
        "    \n",
        "    player_list[i].hand = hand\n",
        "\n",
        "# ------------------------------------------------------------------------------\n",
        "# Message functions\n",
        "\n",
        "def bidding_message(i, team, last_bid, declarer, pass_count):\n",
        "  player_name = ['N','E','W','S'] # Convention\n",
        "  player_name = [0,1,2,3]\n",
        "  \n",
        "  declarer_str = ''\n",
        "  if declarer != None:\n",
        "    declarer_str = ' (Team ' + str(player_list[declarer].team) + ', Player ' + str(declarer) + ')'\n",
        "  \n",
        "  msg = '---------------' + '\\n' + \\\n",
        "        ' Bidding stage ' + '\\n' + \\\n",
        "        '---------------' + '\\n' + \\\n",
        "        'Current player:\\t' + str(player_name[i]) + ' (Team ' + str(team) + ')' + '\\n' + \\\n",
        "        'Last bid:\\t' + str(last_bid) + declarer_str + '\\n' + \\\n",
        "        'Pass count:\\t' + str(pass_count) + '\\n'\n",
        "  \n",
        "  return msg\n",
        "        \n",
        "def playing_message(i, team, contract_team, contract):\n",
        "  player_name = ['N','E','W','S'] # Convention\n",
        "  player_name = [0,1,2,3]\n",
        "  \n",
        "  msg = '---------------' + '\\n' + \\\n",
        "        ' Playing stage ' + '\\n' + \\\n",
        "        '---------------' + '\\n' + \\\n",
        "        'Current player:\\t' + str(player_name[i]) + ' (Team ' + str(team) + ')' + '\\n' + \\\n",
        "        'Contract:\\t' + str(contract) + ' by Team ' + str(contract_team) + '\\n'\n",
        "  \n",
        "  return msg"
      ],
      "execution_count": 0,
      "outputs": []
    },
    {
      "metadata": {
        "id": "RPR2Odmp59dn",
        "colab_type": "text"
      },
      "cell_type": "markdown",
      "source": [
        "# Game"
      ]
    },
    {
      "metadata": {
        "id": "dJ4JNMYu5-BI",
        "colab_type": "code",
        "outputId": "16137ab1-adf9-48e2-fde0-e38ab56d7e23",
        "colab": {
          "base_uri": "https://localhost:8080/",
          "height": 122
        }
      },
      "cell_type": "code",
      "source": [
        "# Setup ------------------------------------------------------------------------\n",
        "\n",
        "# Create players\n",
        "player_list = []\n",
        "for i in range(4):\n",
        "  player_list.append(Player(i % 2))  # team #'s are [0,1,0,1]\n",
        "\n",
        "# Create hands\n",
        "create_hands(player_list)\n",
        "\n",
        "# Bidding ----------------------------------------------------------------------\n",
        "input('Press ENTER to begin the bidding stage');\n",
        "\n",
        "declarer = None # Declarer id\n",
        "last_bid = None # Last bid\n",
        "pass_count = 0  # Bidding stops when 3 consecutive passes occur\n",
        "\n",
        "for i in cycle(range(len(player_list))): # Cycle through players\n",
        "  player = player_list[i]\n",
        "\n",
        "  valid_input = False  # Keep asking for input until valid input is received\n",
        "  show_hand = False    # Don't display immediately in case others are watching\n",
        "  \n",
        "  while not valid_input:\n",
        "    \n",
        "    # Display instruction\n",
        "    clear_output()\n",
        "    print(bidding_message(i, player.team, last_bid, declarer, pass_count))\n",
        "    \n",
        "    if show_hand:\n",
        "      player.display_hand()\n",
        "      input_msg = 'Select an action (PASS, 1C, 1D, 1H, 1S, 1NT, ..., 7NT): '\n",
        "    else:\n",
        "      input_msg = 'Select an action (PASS, 1C, 1D, 1H, 1S, 1NT, ..., 7NT)\\n' + \\\n",
        "                  'Or type SHOW to see your hand: '\n",
        "      \n",
        "    # Receive user input\n",
        "    print(input_msg)\n",
        "    action = input()\n",
        "    \n",
        "    if action == 'SHOW':            # Show hand in the next iteration\n",
        "      show_hand = True\n",
        "    elif action == 'PASS':          # Pass\n",
        "      pass_count += 1\n",
        "      valid_input = True\n",
        "    elif action in bid_actions_str: # Bid\n",
        "      \n",
        "      # Either first bid or must be higher than the last bid\n",
        "      if last_bid == None or bid_actions_str.index(action) > bid_actions_str.index(last_bid):\n",
        "        # Change declarer\n",
        "        cond1 = declarer == None or player_list[declarer].team != player.team # if first bid or different team\n",
        "        cond2 = last_bid and last_bid[1:] != action[1:]               # or different trump suit\n",
        "        if cond1 or cond2:\n",
        "          declarer = i\n",
        "\n",
        "        # Set bid and reset pass count\n",
        "        last_bid = action\n",
        "        pass_count = 0\n",
        "        \n",
        "        valid_input = True\n",
        "      \n",
        "  # Break if no bids made or 3 consecutive passes after a bid\n",
        "  if pass_count > 3 or (last_bid != None and pass_count == 3):\n",
        "    break\n",
        "    \n",
        "if last_bid == None:\n",
        "  raise Exception('No bids were made. Game ends.')\n",
        "  \n",
        "player_list[declarer].role = 'declarer'\n",
        "player_list[(declarer + 2) % 4].role = 'dummy'\n",
        "player_list\n",
        "  \n",
        "input('Press ENTER to begin the playing stage');\n",
        "\n",
        "# Playing ----------------------------------------------------------------------\n",
        "player_id = declarer # Declarer goes first\n",
        "declarer_team = player_list[declarer].team\n",
        "\n",
        "clear_output()\n",
        "print(playing_message(player_id, player_list[player_id].team, declarer_team, last_bid))\n",
        "\n",
        "# Scoring"
      ],
      "execution_count": 49,
      "outputs": [
        {
          "output_type": "stream",
          "text": [
            "---------------\n",
            " Playing stage \n",
            "---------------\n",
            "Current player:\t0 (Team 0)\n",
            "Contract:\t3NT by Team 0\n",
            "\n"
          ],
          "name": "stdout"
        }
      ]
    },
    {
      "metadata": {
        "id": "r-cna6EUKFtu",
        "colab_type": "code",
        "colab": {}
      },
      "cell_type": "code",
      "source": [
        ""
      ],
      "execution_count": 0,
      "outputs": []
    }
  ]
}